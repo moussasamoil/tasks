{
 "cells": [
  {
   "cell_type": "code",
   "execution_count": 1,
   "id": "4383c469",
   "metadata": {},
   "outputs": [],
   "source": [
    "import networkx as nx"
   ]
  },
  {
   "cell_type": "code",
   "execution_count": 2,
   "id": "7397647f",
   "metadata": {},
   "outputs": [],
   "source": [
    "\n",
    "UG = nx.Graph()"
   ]
  },
  {
   "cell_type": "code",
   "execution_count": 3,
   "id": "aea747d4",
   "metadata": {},
   "outputs": [],
   "source": [
    "\n",
    "UG.add_nodes_from(['a','b','c','d','e'])"
   ]
  },
  {
   "cell_type": "code",
   "execution_count": 4,
   "id": "a8df679b",
   "metadata": {},
   "outputs": [],
   "source": [
    "UG.add_edges_from([('a','b'),('c','d'),('a','d'),('a','e'),('b','e')])"
   ]
  },
  {
   "cell_type": "code",
   "execution_count": 5,
   "id": "d76199a1",
   "metadata": {},
   "outputs": [
    {
     "data": {
      "image/png": "[encoded data removed]",
      "text/plain": [
       "<Figure size 432x288 with 1 Axes>"
      ]
     },
     "metadata": {},
     "output_type": "display_data"
    }
   ],
   "source": [
    "nx.draw(UG,with_labels=True,font_color=\"Black\",node_color=\"Red\",node_size=2000,font_size=50)"
   ]
  },
  {
   "cell_type": "code",
   "execution_count": 6,
   "id": "882b1348",
   "metadata": {},
   "outputs": [
    {
     "data": {
      "text/plain": [
       "NodeView(('a', 'b', 'c', 'd', 'e'))"
      ]
     },
     "execution_count": 6,
     "metadata": {},
     "output_type": "execute_result"
    }
   ],
   "source": [
    "\n",
    "UG.nodes()"
   ]
  },
  {
   "cell_type": "code",
   "execution_count": 7,
   "id": "98f0054f",
   "metadata": {},
   "outputs": [
    {
     "data": {
      "text/plain": [
       "EdgeView([('a', 'b'), ('a', 'd'), ('a', 'e'), ('b', 'e'), ('c', 'd')])"
      ]
     },
     "execution_count": 7,
     "metadata": {},
     "output_type": "execute_result"
    }
   ],
   "source": [
    "UG.edges()"
   ]
  },
  {
   "cell_type": "code",
   "execution_count": 8,
   "id": "d4eda9a7",
   "metadata": {},
   "outputs": [
    {
     "data": {
      "text/plain": [
       "5"
      ]
     },
     "execution_count": 8,
     "metadata": {},
     "output_type": "execute_result"
    }
   ],
   "source": [
    "UG.number_of_nodes()"
   ]
  },
  {
   "cell_type": "code",
   "execution_count": 10,
   "id": "6404e1b1",
   "metadata": {},
   "outputs": [
    {
     "data": {
      "text/plain": [
       "5"
      ]
     },
     "execution_count": 10,
     "metadata": {},
     "output_type": "execute_result"
    }
   ],
   "source": [
    "UG.number_of_edges()"
   ]
  },
  {
   "cell_type": "code",
   "execution_count": 11,
   "id": "4c7391e6",
   "metadata": {},
   "outputs": [
    {
     "data": {
      "text/plain": [
       "<dict_keyiterator at 0x1c4bba63950>"
      ]
     },
     "execution_count": 11,
     "metadata": {},
     "output_type": "execute_result"
    }
   ],
   "source": [
    "UG.neighbors('e')"
   ]
  },
  {
   "cell_type": "code",
   "execution_count": 12,
   "id": "08538ff1",
   "metadata": {},
   "outputs": [
    {
     "data": {
      "text/plain": [
       "False"
      ]
     },
     "execution_count": 12,
     "metadata": {},
     "output_type": "execute_result"
    }
   ],
   "source": [
    "nx.is_tree(UG)"
   ]
  },
  {
   "cell_type": "code",
   "execution_count": 13,
   "id": "2b0930a1",
   "metadata": {},
   "outputs": [
    {
     "data": {
      "text/plain": [
       "True"
      ]
     },
     "execution_count": 13,
     "metadata": {},
     "output_type": "execute_result"
    }
   ],
   "source": [
    "nx.is_connected(UG)"
   ]
  },
  {
   "cell_type": "code",
   "execution_count": 14,
   "id": "7fce2d05",
   "metadata": {},
   "outputs": [
    {
     "data": {
      "text/plain": [
       "True"
      ]
     },
     "execution_count": 14,
     "metadata": {},
     "output_type": "execute_result"
    }
   ],
   "source": [
    "UG.has_node('a')"
   ]
  },
  {
   "cell_type": "code",
   "execution_count": 15,
   "id": "ca4c98e6",
   "metadata": {},
   "outputs": [
    {
     "data": {
      "text/plain": [
       "True"
      ]
     },
     "execution_count": 15,
     "metadata": {},
     "output_type": "execute_result"
    }
   ],
   "source": [
    "UG.has_edge('a','b')"
   ]
  },
  {
   "cell_type": "code",
   "execution_count": 16,
   "id": "08611583",
   "metadata": {},
   "outputs": [
    {
     "data": {
      "text/plain": [
       "3"
      ]
     },
     "execution_count": 16,
     "metadata": {},
     "output_type": "execute_result"
    }
   ],
   "source": [
    "UG.degree('a')"
   ]
  },
  {
   "cell_type": "code",
   "execution_count": 17,
   "id": "d6bd53a5",
   "metadata": {},
   "outputs": [],
   "source": [
    "DG =nx.DiGraph()"
   ]
  },
  {
   "cell_type": "code",
   "execution_count": 18,
   "id": "da75b9ec",
   "metadata": {},
   "outputs": [],
   "source": [
    "DG.add_nodes_from(['a','b','c','d','e'])"
   ]
  },
  {
   "cell_type": "code",
   "execution_count": 19,
   "id": "3cc3c62a",
   "metadata": {},
   "outputs": [],
   "source": [
    "DG.add_edges_from([('a','b'),('c','d'),('a','d'),('a','e'),('b','e')])"
   ]
  },
  {
   "cell_type": "code",
   "execution_count": 20,
   "id": "19c757ce",
   "metadata": {},
   "outputs": [
    {
     "data": {
      "image/png": "[encoded data removed]",
      "text/plain": [
       "<Figure size 432x288 with 1 Axes>"
      ]
     },
     "metadata": {},
     "output_type": "display_data"
    }
   ],
   "source": [
    "nx.draw(DG,with_labels=True,font_color=\"Black\",node_color=\"Red\",node_size=1500,font_size=30)"
   ]
  },
  {
   "cell_type": "code",
   "execution_count": null,
   "id": "25f2ddc9",
   "metadata": {},
   "outputs": [],
   "source": []
  }
 ],
 "metadata": {
  "kernelspec": {
   "display_name": "Python 3 (ipykernel)",
   "language": "python",
   "name": "python3"
  },
  "language_info": {
   "codemirror_mode": {
    "name": "ipython",
    "version": 3
   },
   "file_extension": ".py",
   "mimetype": "text/x-python",
   "name": "python",
   "nbconvert_exporter": "python",
   "pygments_lexer": "ipython3",
   "version": "3.9.7"
  }
 },
 "nbformat": 4,
 "nbformat_minor": 5
}
